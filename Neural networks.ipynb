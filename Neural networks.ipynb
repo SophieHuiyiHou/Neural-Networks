{
 "cells": [
  {
   "cell_type": "code",
   "execution_count": 1,
   "id": "4f69da1e",
   "metadata": {},
   "outputs": [],
   "source": [
    "# libraries\n",
    "import pandas as pd\n",
    "import numpy as np\n",
    "from sklearn.model_selection import train_test_split\n",
    "from sklearn.metrics import classification_report, accuracy_score\n",
    "from sklearn.model_selection import GridSearchCV\n",
    "from dm_tools import data_prep\n",
    "from sklearn.preprocessing import StandardScaler\n",
    "\n",
    "# set the random seed - consistent\n",
    "rs = 10\n",
    "\n",
    "# load the data\n",
    "df,X,y,X_train, X_test, y_train, y_test = data_prep()\n",
    "\n",
    "scaler = StandardScaler()\n",
    "X_train = scaler.fit_transform(X_train, y_train)\n",
    "X_test = scaler.transform(X_test)"
   ]
  },
  {
   "cell_type": "code",
   "execution_count": 2,
   "id": "297812cb",
   "metadata": {
    "scrolled": false
   },
   "outputs": [
    {
     "name": "stdout",
     "output_type": "stream",
     "text": [
      "Train accuracy: 0.9966452334358401\n",
      "Test accuracy: 0.7920469361147328\n",
      "              precision    recall  f1-score   support\n",
      "\n",
      "       False       0.83      0.84      0.84       973\n",
      "        True       0.72      0.71      0.71       561\n",
      "\n",
      "    accuracy                           0.79      1534\n",
      "   macro avg       0.78      0.77      0.78      1534\n",
      "weighted avg       0.79      0.79      0.79      1534\n",
      "\n",
      "MLPClassifier(random_state=10)\n"
     ]
    },
    {
     "name": "stderr",
     "output_type": "stream",
     "text": [
      "C:\\Users\\user\\anaconda3\\lib\\site-packages\\sklearn\\neural_network\\_multilayer_perceptron.py:614: ConvergenceWarning: Stochastic Optimizer: Maximum iterations (200) reached and the optimization hasn't converged yet.\n",
      "  warnings.warn(\n"
     ]
    }
   ],
   "source": [
    "from sklearn.neural_network import MLPClassifier\n",
    "\n",
    "model_1 = MLPClassifier(random_state=rs)\n",
    "model_1.fit(X_train, y_train)\n",
    "\n",
    "print(\"Train accuracy:\", model_1.score(X_train, y_train))\n",
    "print(\"Test accuracy:\", model_1.score(X_test, y_test))\n",
    "\n",
    "y_pred = model_1.predict(X_test)\n",
    "print(classification_report(y_test, y_pred))\n",
    "\n",
    "print(model_1)"
   ]
  },
  {
   "cell_type": "code",
   "execution_count": 3,
   "id": "94ec96f7",
   "metadata": {},
   "outputs": [
    {
     "name": "stdout",
     "output_type": "stream",
     "text": [
      "(3577, 158)\n"
     ]
    }
   ],
   "source": [
    "print(X_train.shape)"
   ]
  },
  {
   "cell_type": "code",
   "execution_count": 4,
   "id": "c5b13469",
   "metadata": {},
   "outputs": [
    {
     "data": {
      "text/plain": [
       "GridSearchCV(cv=10, estimator=MLPClassifier(max_iter=500, random_state=10),\n",
       "             n_jobs=-1,\n",
       "             param_grid={'hidden_layer_sizes': [(5,), (30,), (55,), (80,),\n",
       "                                                (105,), (130,), (155,)]},\n",
       "             return_train_score=True)"
      ]
     },
     "execution_count": 4,
     "metadata": {},
     "output_type": "execute_result"
    }
   ],
   "source": [
    "params = {'hidden_layer_sizes': [(x,) for x in range(5, 159, 25)]}\n",
    "\n",
    "cv_1 = GridSearchCV(param_grid=params, estimator=MLPClassifier(max_iter=500, random_state=rs),return_train_score=True, cv=10, n_jobs=-1)\n",
    "cv_1.fit(X_train, y_train)"
   ]
  },
  {
   "cell_type": "code",
   "execution_count": 5,
   "id": "d9cc38bc",
   "metadata": {},
   "outputs": [
    {
     "name": "stdout",
     "output_type": "stream",
     "text": [
      "Train accuracy: 0.9994408722393067\n",
      "Test accuracy: 0.7698826597131682\n",
      "              precision    recall  f1-score   support\n",
      "\n",
      "       False       0.82      0.81      0.82       973\n",
      "        True       0.68      0.69      0.69       561\n",
      "\n",
      "    accuracy                           0.77      1534\n",
      "   macro avg       0.75      0.75      0.75      1534\n",
      "weighted avg       0.77      0.77      0.77      1534\n",
      "\n",
      "{'hidden_layer_sizes': (80,)}\n"
     ]
    }
   ],
   "source": [
    "print(\"Train accuracy:\", cv_1.score(X_train, y_train))\n",
    "print(\"Test accuracy:\", cv_1.score(X_test, y_test))\n",
    "\n",
    "y_pred = cv_1.predict(X_test)\n",
    "print(classification_report(y_test, y_pred))\n",
    "\n",
    "print(cv_1.best_params_)"
   ]
  },
  {
   "cell_type": "code",
   "execution_count": 6,
   "id": "e9c3bfca",
   "metadata": {},
   "outputs": [
    {
     "name": "stdout",
     "output_type": "stream",
     "text": [
      "Train accuracy: 0.9994408722393067\n",
      "Test accuracy: 0.7698826597131682\n",
      "              precision    recall  f1-score   support\n",
      "\n",
      "       False       0.82      0.81      0.82       973\n",
      "        True       0.68      0.69      0.69       561\n",
      "\n",
      "    accuracy                           0.77      1534\n",
      "   macro avg       0.75      0.75      0.75      1534\n",
      "weighted avg       0.77      0.77      0.77      1534\n",
      "\n",
      "{'hidden_layer_sizes': (80,)}\n"
     ]
    }
   ],
   "source": [
    "# new parameters\n",
    "params = {'hidden_layer_sizes': [(78,), (80,), (82,), (84,)]}\n",
    "\n",
    "cv_2 = GridSearchCV(param_grid=params, estimator=MLPClassifier(max_iter=500, random_state=rs), cv=10, n_jobs=-1)\n",
    "cv_2.fit(X_train, y_train)\n",
    "\n",
    "print(\"Train accuracy:\", cv_2.score(X_train, y_train))\n",
    "print(\"Test accuracy:\", cv_2.score(X_test, y_test))\n",
    "\n",
    "y_pred = cv_2.predict(X_test)\n",
    "print(classification_report(y_test, y_pred))\n",
    "\n",
    "print(cv_2.best_params_)"
   ]
  },
  {
   "cell_type": "code",
   "execution_count": 7,
   "id": "aec108b5",
   "metadata": {},
   "outputs": [
    {
     "name": "stdout",
     "output_type": "stream",
     "text": [
      "Train accuracy: 1.0\n",
      "Test accuracy: 0.7796610169491526\n",
      "              precision    recall  f1-score   support\n",
      "\n",
      "       False       0.82      0.83      0.83       973\n",
      "        True       0.70      0.70      0.70       561\n",
      "\n",
      "    accuracy                           0.78      1534\n",
      "   macro avg       0.76      0.76      0.76      1534\n",
      "weighted avg       0.78      0.78      0.78      1534\n",
      "\n",
      "{'alpha': 0.01, 'hidden_layer_sizes': (84,)}\n"
     ]
    }
   ],
   "source": [
    "params = {'hidden_layer_sizes': [(78,), (80,), (82,), (84,)], 'alpha': [0.01,0.001, 0.0001, 0.00001]}\n",
    "\n",
    "cv_3 = GridSearchCV(param_grid=params, estimator=MLPClassifier(max_iter=500,random_state=rs), cv=10, n_jobs=-1)\n",
    "cv_3.fit(X_train, y_train)\n",
    "\n",
    "print(\"Train accuracy:\", cv_3.score(X_train, y_train))\n",
    "print(\"Test accuracy:\", cv_3.score(X_test, y_test))\n",
    "\n",
    "y_pred = cv_3.predict(X_test)\n",
    "print(classification_report(y_test, y_pred))\n",
    "\n",
    "print(cv_3.best_params_)"
   ]
  },
  {
   "cell_type": "code",
   "execution_count": 8,
   "id": "207c2f9a",
   "metadata": {},
   "outputs": [
    {
     "name": "stdout",
     "output_type": "stream",
     "text": [
      "{'criterion': 'gini', 'max_depth': 6, 'min_samples_leaf': 200}\n"
     ]
    }
   ],
   "source": [
    "import pickle\n",
    "with open('DT.pickle', 'rb') as f:\n",
    "    dt_best,roc_index_dt_cv, fpr_dt_cv, tpr_dt_cv = pickle.load(f)\n",
    "\n",
    "print(dt_best.best_params_)"
   ]
  },
  {
   "cell_type": "code",
   "execution_count": 9,
   "id": "3256334a",
   "metadata": {},
   "outputs": [
    {
     "name": "stdout",
     "output_type": "stream",
     "text": [
      "covid19_symptoms : 0.5114692111028925\n",
      "income_high : 0.23490201645435005\n",
      "worried : 0.1306435684518856\n",
      "working_travel critical : 0.06999676133951642\n",
      "working_stopped : 0.024033437333870977\n",
      "house_count : 0.013625616577004623\n",
      "weight : 0.0060598971651324\n",
      "country_US : 0.005114601163527021\n",
      "risk_mortality : 0.0035230137449006093\n",
      "contacts_count : 0.0006318766669198722\n",
      "country_GB : 0.0\n",
      "country_GE : 0.0\n",
      "country_HK : 0.0\n",
      "country_GR : 0.0\n",
      "country_GT : 0.0\n",
      "country_FI : 0.0\n",
      "country_FR : 0.0\n",
      "working_travel non critical : 0.0\n",
      "country_ET : 0.0\n",
      "country_ES : 0.0\n"
     ]
    }
   ],
   "source": [
    "from dm_tools import analyse_feature_importance\n",
    "\n",
    "analyse_feature_importance(dt_best.best_estimator_, X.columns)"
   ]
  },
  {
   "cell_type": "code",
   "execution_count": 10,
   "id": "ca5e2fbf",
   "metadata": {},
   "outputs": [
    {
     "name": "stdout",
     "output_type": "stream",
     "text": [
      "(3577, 6)\n"
     ]
    }
   ],
   "source": [
    "from sklearn.feature_selection import SelectFromModel\n",
    "selectmodel = SelectFromModel(dt_best.best_estimator_, prefit=True)\n",
    "X_train_sel_model = selectmodel.transform(X_train)\n",
    "X_test_sel_model = selectmodel.transform(X_test)\n",
    "print(X_train_sel_model.shape)"
   ]
  },
  {
   "cell_type": "code",
   "execution_count": 11,
   "id": "132dff45",
   "metadata": {},
   "outputs": [
    {
     "name": "stdout",
     "output_type": "stream",
     "text": [
      "Train accuracy: 0.8029074643556052\n",
      "Test accuracy: 0.7835723598435462\n",
      "              precision    recall  f1-score   support\n",
      "\n",
      "       False       0.81      0.86      0.83       973\n",
      "        True       0.73      0.65      0.69       561\n",
      "\n",
      "    accuracy                           0.78      1534\n",
      "   macro avg       0.77      0.75      0.76      1534\n",
      "weighted avg       0.78      0.78      0.78      1534\n",
      "\n",
      "{'alpha': 0.01, 'hidden_layer_sizes': (78,)}\n"
     ]
    }
   ],
   "source": [
    "params = {'hidden_layer_sizes': [(78,), (80,), (82,), (84,)], 'alpha': [0.01,0.001, 0.0001, 0.00001]}\n",
    "\n",
    "cv_sel_model = GridSearchCV(param_grid=params, estimator=MLPClassifier(random_state=rs), cv=10, n_jobs=-1)\n",
    "cv_sel_model.fit(X_train_sel_model, y_train)\n",
    "\n",
    "print(\"Train accuracy:\", cv_sel_model.score(X_train_sel_model, y_train))\n",
    "print(\"Test accuracy:\", cv_sel_model.score(X_test_sel_model, y_test))\n",
    "\n",
    "y_pred = cv_sel_model.predict(X_test_sel_model)\n",
    "print(classification_report(y_test, y_pred))\n",
    "\n",
    "print(cv_sel_model.best_params_)"
   ]
  },
  {
   "cell_type": "code",
   "execution_count": 12,
   "id": "a164882d",
   "metadata": {},
   "outputs": [
    {
     "name": "stdout",
     "output_type": "stream",
     "text": [
      "ROC index on test for NN_default: 0.8563459392913477\n",
      "ROC index on test for NN with gridsearch 1: 0.8392076254962417\n",
      "ROC index on test for NN with gridsearch 2: 0.8392076254962417\n",
      "ROC index on test for NN with gridsearch 3: 0.8473270276063336\n",
      "ROC index on test for NN with feature selection (model selection) and gridsearch: 0.8573095686934028\n"
     ]
    }
   ],
   "source": [
    "from sklearn.metrics import roc_auc_score\n",
    "\n",
    "y_pred_proba_nn_1 = model_1.predict_proba(X_test)\n",
    "y_pred_proba_cv_1 = cv_1.predict_proba(X_test)\n",
    "y_pred_proba_cv_2 = cv_2.predict_proba(X_test)\n",
    "y_pred_proba_cv_3 = cv_3.predict_proba(X_test)\n",
    "y_pred_proba_cv_sel_model = cv_sel_model.predict_proba(X_test_sel_model)\n",
    "\n",
    "\n",
    "roc_index_nn_1 = roc_auc_score(y_test, y_pred_proba_nn_1[:, 1])\n",
    "roc_index_cv_1 = roc_auc_score(y_test, y_pred_proba_cv_1[:, 1])\n",
    "roc_index_cv_2 = roc_auc_score(y_test, y_pred_proba_cv_2[:, 1])\n",
    "roc_index_cv_3 = roc_auc_score(y_test, y_pred_proba_cv_3[:, 1])\n",
    "roc_index_cv_sel_model = roc_auc_score(y_test, y_pred_proba_cv_sel_model[:, 1])\n",
    "\n",
    "\n",
    "print(\"ROC index on test for NN_default:\", roc_index_nn_1)\n",
    "print(\"ROC index on test for NN with gridsearch 1:\", roc_index_cv_1)\n",
    "print(\"ROC index on test for NN with gridsearch 2:\", roc_index_cv_2)\n",
    "print(\"ROC index on test for NN with gridsearch 3:\", roc_index_cv_3)\n",
    "print(\"ROC index on test for NN with feature selection (model selection) and gridsearch:\", roc_index_cv_sel_model)\n",
    "\n",
    "from sklearn.metrics import roc_curve\n",
    "\n",
    "fpr_nn_1, tpr_nn_1, thresholds_nn_1 = roc_curve(y_test, y_pred_proba_nn_1[:,1])\n",
    "#fpr_nn_2, tpr_nn_2, thresholds_nn_2 = roc_curve(y_test, y_pred_proba_nn_2[:,1])\n",
    "fpr_cv_1, tpr_cv_1, thresholds_cv_1 = roc_curve(y_test, y_pred_proba_cv_1[:,1])\n",
    "fpr_cv_2, tpr_cv_2, thresholds_cv_2 = roc_curve(y_test, y_pred_proba_cv_2[:,1])\n",
    "fpr_cv_3, tpr_cv_3, thresholds_cv_3 = roc_curve(y_test, y_pred_proba_cv_3[:,1])\n",
    "fpr_cv_sel_model, tpr_cv_sel_model, thresholds_cv_sel_model = roc_curve(y_test, y_pred_proba_cv_sel_model[:,1])"
   ]
  },
  {
   "cell_type": "code",
   "execution_count": 13,
   "id": "913a1f55",
   "metadata": {},
   "outputs": [
    {
     "data": {
      "image/png": "[encoded data removed]",
      "text/plain": [
       "<Figure size 432x288 with 1 Axes>"
      ]
     },
     "metadata": {
      "needs_background": "light"
     },
     "output_type": "display_data"
    }
   ],
   "source": [
    "import matplotlib.pyplot as plt\n",
    "\n",
    "plt.plot(fpr_nn_1, tpr_nn_1, label='NN_default {:.3f}'.format(roc_index_nn_1), color='red', lw=0.5)\n",
    "plt.plot(fpr_cv_1, tpr_cv_1, label='NN cv_1 {:.3f}'.format(roc_index_cv_1), color='blue', lw=0.5)\n",
    "plt.plot(fpr_cv_2, tpr_cv_2, label='NN cv_2 {:.3f}'.format(roc_index_cv_2), color='yellow', lw=0.5)\n",
    "plt.plot(fpr_cv_3, tpr_cv_3, label='NN cv_3 {:.3f}'.format(roc_index_cv_3), color='cyan', lw=0.5)\n",
    "plt.plot(fpr_cv_sel_model, tpr_cv_sel_model, label='NN with cv_sel_model {:.3f}'.format(roc_index_cv_sel_model), color='black', lw=0.5)\n",
    "\n",
    "\n",
    "plt.plot([0, 1], [0, 1], color='navy', lw=0.5, linestyle='--')\n",
    "plt.xlim([0.0, 1.0])\n",
    "plt.ylim([0.0, 1.0])\n",
    "plt.xlabel('False Positive Rate')\n",
    "plt.ylabel('True Positive Rate')\n",
    "plt.title('Receiver operating characteristic example')\n",
    "plt.legend(loc=\"lower right\")\n",
    "plt.show()"
   ]
  },
  {
   "cell_type": "code",
   "execution_count": 14,
   "id": "66db5b71",
   "metadata": {},
   "outputs": [
    {
     "data": {
      "text/plain": [
       "{'activation': 'relu',\n",
       " 'alpha': 0.0001,\n",
       " 'batch_size': 'auto',\n",
       " 'beta_1': 0.9,\n",
       " 'beta_2': 0.999,\n",
       " 'early_stopping': False,\n",
       " 'epsilon': 1e-08,\n",
       " 'hidden_layer_sizes': (100,),\n",
       " 'learning_rate': 'constant',\n",
       " 'learning_rate_init': 0.001,\n",
       " 'max_fun': 15000,\n",
       " 'max_iter': 200,\n",
       " 'momentum': 0.9,\n",
       " 'n_iter_no_change': 10,\n",
       " 'nesterovs_momentum': True,\n",
       " 'power_t': 0.5,\n",
       " 'random_state': 10,\n",
       " 'shuffle': True,\n",
       " 'solver': 'adam',\n",
       " 'tol': 0.0001,\n",
       " 'validation_fraction': 0.1,\n",
       " 'verbose': False,\n",
       " 'warm_start': False}"
      ]
     },
     "execution_count": 14,
     "metadata": {},
     "output_type": "execute_result"
    }
   ],
   "source": [
    "model_1.get_params(deep=True)"
   ]
  },
  {
   "cell_type": "code",
   "execution_count": 34,
   "id": "5e9eda05",
   "metadata": {},
   "outputs": [
    {
     "data": {
      "text/plain": [
       "{'activation': 'relu',\n",
       " 'alpha': 0.01,\n",
       " 'batch_size': 'auto',\n",
       " 'beta_1': 0.9,\n",
       " 'beta_2': 0.999,\n",
       " 'early_stopping': False,\n",
       " 'epsilon': 1e-08,\n",
       " 'hidden_layer_sizes': (84,),\n",
       " 'learning_rate': 'constant',\n",
       " 'learning_rate_init': 0.001,\n",
       " 'max_fun': 15000,\n",
       " 'max_iter': 500,\n",
       " 'momentum': 0.9,\n",
       " 'n_iter_no_change': 10,\n",
       " 'nesterovs_momentum': True,\n",
       " 'power_t': 0.5,\n",
       " 'random_state': 10,\n",
       " 'shuffle': True,\n",
       " 'solver': 'adam',\n",
       " 'tol': 0.0001,\n",
       " 'validation_fraction': 0.1,\n",
       " 'verbose': False,\n",
       " 'warm_start': False}"
      ]
     },
     "execution_count": 34,
     "metadata": {},
     "output_type": "execute_result"
    }
   ],
   "source": [
    "cv_3.best_estimator_.get_params(deep=True)"
   ]
  },
  {
   "cell_type": "code",
   "execution_count": 35,
   "id": "2e2883eb",
   "metadata": {},
   "outputs": [
    {
     "data": {
      "text/plain": [
       "{'activation': 'relu',\n",
       " 'alpha': 0.01,\n",
       " 'batch_size': 'auto',\n",
       " 'beta_1': 0.9,\n",
       " 'beta_2': 0.999,\n",
       " 'early_stopping': False,\n",
       " 'epsilon': 1e-08,\n",
       " 'hidden_layer_sizes': (78,),\n",
       " 'learning_rate': 'constant',\n",
       " 'learning_rate_init': 0.001,\n",
       " 'max_fun': 15000,\n",
       " 'max_iter': 200,\n",
       " 'momentum': 0.9,\n",
       " 'n_iter_no_change': 10,\n",
       " 'nesterovs_momentum': True,\n",
       " 'power_t': 0.5,\n",
       " 'random_state': 10,\n",
       " 'shuffle': True,\n",
       " 'solver': 'adam',\n",
       " 'tol': 0.0001,\n",
       " 'validation_fraction': 0.1,\n",
       " 'verbose': False,\n",
       " 'warm_start': False}"
      ]
     },
     "execution_count": 35,
     "metadata": {},
     "output_type": "execute_result"
    }
   ],
   "source": [
    "cv_sel_model.best_estimator_.get_params(deep=True)"
   ]
  },
  {
   "cell_type": "code",
   "execution_count": 15,
   "id": "383ad7fb",
   "metadata": {},
   "outputs": [
    {
     "name": "stdout",
     "output_type": "stream",
     "text": [
      "DEFAULT MODEL NETWORK ARCHITECTURE\n",
      "number of layers = 3\n",
      "number of nodes in input layer = 158\n",
      "number of nodes in output layer = 1\n",
      "number of hidden layers = 1\n",
      "number of neurons in hidden layers = (100,)\n"
     ]
    }
   ],
   "source": [
    "print(\"DEFAULT MODEL NETWORK ARCHITECTURE\")\n",
    "print(\"number of layers = \" + str(model_1.n_layers_))\n",
    "print(\"number of nodes in input layer = \" + str(model_1.n_features_in_))\n",
    "print(\"number of nodes in output layer = \" + str(model_1.n_outputs_))\n",
    "print(\"number of hidden layers = \" + str(model_1.n_layers_ - 2))\n",
    "print(\"number of neurons in hidden layers = \" + \n",
    "      str(model_1.get_params(deep=True).get(\"hidden_layer_sizes\")))"
   ]
  },
  {
   "cell_type": "code",
   "execution_count": 16,
   "id": "8b295fc4",
   "metadata": {},
   "outputs": [
    {
     "name": "stdout",
     "output_type": "stream",
     "text": [
      "GRID SEARCH CV NETWORK ARCHITECTURE\n",
      "number of layers = 3\n",
      "number of nodes in input layer = 158\n",
      "number of nodes in output layer = 1\n",
      "number of hidden layers = 1\n",
      "number of neurons in hidden layers = (84,)\n"
     ]
    }
   ],
   "source": [
    "print(\"GRID SEARCH CV NETWORK ARCHITECTURE\")\n",
    "print(\"number of layers = \" + str(cv_3.best_estimator_.n_layers_))\n",
    "print(\"number of nodes in input layer = \" + str(cv_3.best_estimator_.n_features_in_))\n",
    "print(\"number of nodes in output layer = \" + str(cv_3.best_estimator_.n_outputs_))\n",
    "print(\"number of hidden layers = \" + str(cv_3.best_estimator_.n_layers_ - 2))\n",
    "print(\"number of neurons in hidden layers = \" + \n",
    "      str(cv_3.best_estimator_.get_params(deep=True).get(\"hidden_layer_sizes\")))"
   ]
  },
  {
   "cell_type": "code",
   "execution_count": 17,
   "id": "61a56b55",
   "metadata": {},
   "outputs": [
    {
     "name": "stdout",
     "output_type": "stream",
     "text": [
      "DT SELECTION MODEL CV NETWORK ARCHITECTURE\n",
      "number of layers = 3\n",
      "number of nodes in input layer = 6\n",
      "number of nodes in output layer = 1\n",
      "number of hidden layers = 1\n",
      "number of neurons in hidden layers = (78,)\n"
     ]
    }
   ],
   "source": [
    "print(\"DT SELECTION MODEL CV NETWORK ARCHITECTURE\")\n",
    "print(\"number of layers = \" + str(cv_sel_model.best_estimator_.n_layers_))\n",
    "print(\"number of nodes in input layer = \" + str(cv_sel_model.best_estimator_.n_features_in_))\n",
    "print(\"number of nodes in output layer = \" + str(cv_sel_model.best_estimator_.n_outputs_))\n",
    "print(\"number of hidden layers = \" + str(cv_sel_model.best_estimator_.n_layers_ - 2))\n",
    "print(\"number of neurons in hidden layers = \" + \n",
    "      str(cv_sel_model.best_estimator_.get_params(deep=True).get(\"hidden_layer_sizes\")))"
   ]
  },
  {
   "cell_type": "code",
   "execution_count": 19,
   "id": "cb517ec6",
   "metadata": {},
   "outputs": [
    {
     "data": {
      "text/plain": [
       "200"
      ]
     },
     "execution_count": 19,
     "metadata": {},
     "output_type": "execute_result"
    }
   ],
   "source": [
    "model_1.n_iter_"
   ]
  },
  {
   "cell_type": "code",
   "execution_count": 36,
   "id": "39b79c1f",
   "metadata": {},
   "outputs": [
    {
     "data": {
      "text/plain": [
       "447"
      ]
     },
     "execution_count": 36,
     "metadata": {},
     "output_type": "execute_result"
    }
   ],
   "source": [
    "cv_3.best_estimator_.n_iter_"
   ]
  },
  {
   "cell_type": "code",
   "execution_count": 20,
   "id": "955465b9",
   "metadata": {},
   "outputs": [
    {
     "data": {
      "text/plain": [
       "150"
      ]
     },
     "execution_count": 20,
     "metadata": {},
     "output_type": "execute_result"
    }
   ],
   "source": [
    "cv_sel_model.best_estimator_.n_iter_"
   ]
  },
  {
   "cell_type": "code",
   "execution_count": 24,
   "id": "fee4df8e",
   "metadata": {},
   "outputs": [
    {
     "name": "stdout",
     "output_type": "stream",
     "text": [
      "Index(['house_count', 'worried', 'covid19_symptoms', 'income_high',\n",
      "       'working_stopped', 'working_travel critical'],\n",
      "      dtype='object')\n"
     ]
    }
   ],
   "source": [
    "#Get the new features after performing feature selection\n",
    "mask = selectmodel.get_support()\n",
    "new_features = X.columns[mask]\n",
    "\n",
    "print(new_features)"
   ]
  },
  {
   "cell_type": "code",
   "execution_count": 26,
   "id": "ed2ff913",
   "metadata": {},
   "outputs": [],
   "source": [
    "import pickle\n",
    "with open('DT.pickle', 'rb') as f:\n",
    "    dt_best,roc_index_dt, fpr_dt, tpr_dt = pickle.load(f)\n",
    "with open('LR.pickle', 'rb') as f:\n",
    "    lr_best,roc_index_lr, fpr_lr, tpr_lr = pickle.load(f)\n",
    "# select the best performing neural network\n",
    "nn_best = cv_sel_model"
   ]
  },
  {
   "cell_type": "code",
   "execution_count": 27,
   "id": "482f77e7",
   "metadata": {},
   "outputs": [
    {
     "data": {
      "image/png": "[encoded data removed]",
      "text/plain": [
       "<Figure size 432x288 with 1 Axes>"
      ]
     },
     "metadata": {
      "needs_background": "light"
     },
     "output_type": "display_data"
    }
   ],
   "source": [
    "import matplotlib.pyplot as plt\n",
    "\n",
    "plt.plot(fpr_dt, tpr_dt, label='dt_best {:.3f}'.format(roc_index_dt), color='red', lw=0.5)\n",
    "plt.plot(fpr_lr, tpr_lr, label='lr_best {:.3f}'.format(roc_index_lr), color='blue', lw=0.5)\n",
    "plt.plot(fpr_cv_sel_model, tpr_cv_sel_model, label='nn_best {:.3f}'.format(roc_index_cv_sel_model), color='black', lw=0.5)\n",
    "\n",
    "plt.plot([0, 1], [0, 1], color='navy', lw=0.5, linestyle='--')\n",
    "plt.xlim([0.0, 1.0])\n",
    "plt.ylim([0.0, 1.0])\n",
    "plt.xlabel('False Positive Rate')\n",
    "plt.ylabel('True Positive Rate')\n",
    "plt.title('Receiver operating characteristic example')\n",
    "plt.legend(loc=\"lower right\")\n",
    "plt.show()"
   ]
  }
 ],
 "metadata": {
  "kernelspec": {
   "display_name": "Python 3 (ipykernel)",
   "language": "python",
   "name": "python3"
  },
  "language_info": {
   "codemirror_mode": {
    "name": "ipython",
    "version": 3
   },
   "file_extension": ".py",
   "mimetype": "text/x-python",
   "name": "python",
   "nbconvert_exporter": "python",
   "pygments_lexer": "ipython3",
   "version": "3.11.4"
  }
 },
 "nbformat": 4,
 "nbformat_minor": 5
}
